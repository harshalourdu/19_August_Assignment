{
 "cells": [
  {
   "cell_type": "code",
   "execution_count": 4,
   "id": "61c662c4-415a-463e-bf94-6df535cc22d2",
   "metadata": {},
   "outputs": [],
   "source": [
    "#Python Basic Variables"
   ]
  },
  {
   "cell_type": "code",
   "execution_count": 5,
   "id": "01d843c1-6232-439a-8998-990a6908c13b",
   "metadata": {},
   "outputs": [],
   "source": [
    "#1. Declare two variables, `x` and `y`, and assign them integer values. \n",
    "# Swap the values of these variables without using any temporary variable."
   ]
  },
  {
   "cell_type": "code",
   "execution_count": 6,
   "id": "aae8b789-3ac4-413c-a0cf-698e184dbe9f",
   "metadata": {},
   "outputs": [
    {
     "name": "stdout",
     "output_type": "stream",
     "text": [
      "After swapping:\n",
      "x = 20\n",
      "y = 10\n"
     ]
    }
   ],
   "source": [
    "x = 10\n",
    "y = 20\n",
    "\n",
    "x = x + y\n",
    "y = x - y\n",
    "x = x - y\n",
    "\n",
    "print(\"After swapping:\")\n",
    "print(\"x =\", x)\n",
    "print(\"y =\", y)"
   ]
  },
  {
   "cell_type": "code",
   "execution_count": 9,
   "id": "43b85452-27b5-4c78-8fd2-388e67b56cc7",
   "metadata": {},
   "outputs": [],
   "source": [
    "#2. Create a program that calculates the area of a rectangle. \n",
    "#Take the length and width as inputs from the user and store them in variables. \n",
    "# Calculate and display the area."
   ]
  },
  {
   "cell_type": "code",
   "execution_count": 16,
   "id": "34919cb8-0e03-4f46-ac74-a8182931b569",
   "metadata": {},
   "outputs": [
    {
     "name": "stdin",
     "output_type": "stream",
     "text": [
      "Enter the length of the rectangle:  10\n",
      "Enter the width of the rectangle:  30\n"
     ]
    },
    {
     "name": "stdout",
     "output_type": "stream",
     "text": [
      "The area of the rectangle is: 300.0\n"
     ]
    }
   ],
   "source": [
    "length = float(input(\"Enter the length of the rectangle: \"))\n",
    "width = float(input(\"Enter the width of the rectangle: \"))\n",
    "\n",
    "area = length * width\n",
    "\n",
    "print(\"The area of the rectangle is:\", area)"
   ]
  },
  {
   "cell_type": "code",
   "execution_count": 11,
   "id": "e7602ae7-66b7-44ce-8369-e000eab1b23d",
   "metadata": {},
   "outputs": [],
   "source": [
    "#3. Write a Python program that converts temperatures from Celsius to Fahrenheit. \n",
    "# Take the temperature in Celsius as input, store it in a variable,\n",
    "# convert it to Fahrenheit, and display the result."
   ]
  },
  {
   "cell_type": "code",
   "execution_count": 12,
   "id": "d0aeb49a-a0f6-4f86-99a1-155cfeff3653",
   "metadata": {},
   "outputs": [
    {
     "name": "stdin",
     "output_type": "stream",
     "text": [
      "Enter temperature in Celsius:  20\n"
     ]
    },
    {
     "name": "stdout",
     "output_type": "stream",
     "text": [
      "Temperature in Fahrenheit: 68.0\n"
     ]
    }
   ],
   "source": [
    "celsius = float(input(\"Enter temperature in Celsius: \"))\n",
    "\n",
    "fahrenheit = (celsius * 9/5) + 32\n",
    "\n",
    "print(\"Temperature in Fahrenheit:\", fahrenheit)"
   ]
  },
  {
   "cell_type": "code",
   "execution_count": null,
   "id": "a3d87a9b-03a7-44f1-b532-9bfc4565c472",
   "metadata": {},
   "outputs": [],
   "source": []
  },
  {
   "cell_type": "code",
   "execution_count": 13,
   "id": "8108e6f6-16ac-4766-9ff8-0b1360d9f6eb",
   "metadata": {},
   "outputs": [],
   "source": [
    "# String Based Questions"
   ]
  },
  {
   "cell_type": "code",
   "execution_count": 14,
   "id": "a171468e-9620-4a50-8b8f-f20687d67262",
   "metadata": {},
   "outputs": [],
   "source": [
    "# 1. Write a Python program that takes a string as input and prints the length of\n",
    "#the string."
   ]
  },
  {
   "cell_type": "code",
   "execution_count": 26,
   "id": "0a56674a-d95a-4573-bcf4-89f55b6db4a4",
   "metadata": {},
   "outputs": [
    {
     "name": "stdin",
     "output_type": "stream",
     "text": [
      "Enter length of String :  harsha pw skills\n"
     ]
    },
    {
     "name": "stdout",
     "output_type": "stream",
     "text": [
      "16\n"
     ]
    }
   ],
   "source": [
    "x = input(\"Enter length of String : \")\n",
    "print(len(x))"
   ]
  },
  {
   "cell_type": "code",
   "execution_count": 27,
   "id": "092aec0e-9cdf-4512-9e83-ff797ad5b79b",
   "metadata": {},
   "outputs": [],
   "source": [
    "# 2. Create a program that takes a sentence from the user and counts the number\n",
    "#of vowels (a, e, i, o, u) in the string."
   ]
  },
  {
   "cell_type": "code",
   "execution_count": 30,
   "id": "d3b74784-57ab-409c-85b8-36bbf8e5b5f7",
   "metadata": {},
   "outputs": [
    {
     "name": "stdout",
     "output_type": "stream",
     "text": [
      "3\n"
     ]
    }
   ],
   "source": [
    "string = \"Harsha PW Skills\"\n",
    "vowels = \"aeiou\"\n",
    " \n",
    "count = sum(string.count(vowel) for vowel in vowels)\n",
    "print(count)"
   ]
  },
  {
   "cell_type": "code",
   "execution_count": 31,
   "id": "3648f1bb-bf04-49d3-8cf0-a56e3dbd9e13",
   "metadata": {},
   "outputs": [],
   "source": [
    "# 3. Given a string, reverse the order of characters using string slicing and print\n",
    "# the reversed string."
   ]
  },
  {
   "cell_type": "code",
   "execution_count": 1,
   "id": "38332f48-4ee7-4b28-ac16-0720c68513af",
   "metadata": {},
   "outputs": [
    {
     "name": "stdin",
     "output_type": "stream",
     "text": [
      "enter string:  harsha\n"
     ]
    },
    {
     "data": {
      "text/plain": [
       "'ahsrah'"
      ]
     },
     "execution_count": 1,
     "metadata": {},
     "output_type": "execute_result"
    }
   ],
   "source": [
    "a = input(\"enter string: \")\n",
    "a [-1::-1]"
   ]
  },
  {
   "cell_type": "code",
   "execution_count": 6,
   "id": "b69999d0-5a90-4507-b705-1edbe666e22c",
   "metadata": {},
   "outputs": [],
   "source": [
    "# 4. Write a program that takes a string as input and checks if it is a palindrome\n",
    "# (reads the same forwards and backwards)."
   ]
  },
  {
   "cell_type": "code",
   "execution_count": 9,
   "id": "55ed953c-d09b-40ff-b5bd-e53ba5689a66",
   "metadata": {},
   "outputs": [
    {
     "name": "stdout",
     "output_type": "stream",
     "text": [
      "Yes\n"
     ]
    }
   ],
   "source": [
    "def isPalindrome(s):\n",
    "    return s == s[::-1]\n",
    " \n",
    "s = \"level\"\n",
    "ans = isPalindrome(s)\n",
    " \n",
    "if ans:\n",
    "    print(\"Yes\")\n",
    "else:\n",
    "    print(\"No\")"
   ]
  },
  {
   "cell_type": "code",
   "execution_count": 10,
   "id": "2ea6b5af-e323-4b30-9b23-8dcea8c63573",
   "metadata": {},
   "outputs": [],
   "source": [
    "# 5. Create a program that takes a string as input and removes all the spaces from\n",
    "#it. Print the modified string without spaces."
   ]
  },
  {
   "cell_type": "code",
   "execution_count": 15,
   "id": "6e0c1d7e-7db4-4347-a946-df4fa83c4d94",
   "metadata": {},
   "outputs": [
    {
     "name": "stdout",
     "output_type": "stream",
     "text": [
      "harsha\n"
     ]
    }
   ],
   "source": [
    "def remove(string):\n",
    "    return string.replace(\" \", \"\")\n",
    "string = ' h a r s h a '\n",
    "print(remove(string))"
   ]
  },
  {
   "cell_type": "code",
   "execution_count": null,
   "id": "ebc0faac-4ae1-46dd-bdcf-148c9a4f42a4",
   "metadata": {},
   "outputs": [],
   "source": []
  }
 ],
 "metadata": {
  "kernelspec": {
   "display_name": "Python 3 (ipykernel)",
   "language": "python",
   "name": "python3"
  },
  "language_info": {
   "codemirror_mode": {
    "name": "ipython",
    "version": 3
   },
   "file_extension": ".py",
   "mimetype": "text/x-python",
   "name": "python",
   "nbconvert_exporter": "python",
   "pygments_lexer": "ipython3",
   "version": "3.10.8"
  }
 },
 "nbformat": 4,
 "nbformat_minor": 5
}
